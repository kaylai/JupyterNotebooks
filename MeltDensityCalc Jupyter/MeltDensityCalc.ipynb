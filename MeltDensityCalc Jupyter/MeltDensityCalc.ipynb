{
 "cells": [
  {
   "cell_type": "code",
   "execution_count": 2,
   "metadata": {
    "collapsed": true
   },
   "outputs": [],
   "source": [
    "from math import *\n",
    "import pandas\n",
    "import numpy\n",
    "import io\n",
    "from IPython.display import display\n",
    "import fileupload"
   ]
  },
  {
   "cell_type": "code",
   "execution_count": 15,
   "metadata": {
    "collapsed": false
   },
   "outputs": [
    {
     "name": "stdout",
     "output_type": "stream",
     "text": [
      "Uploaded `test-data.xlsx` (341.00 kB)\n"
     ]
    }
   ],
   "source": [
    "uploader = fileupload.FileUploadWidget()\n",
    "\n",
    "def _handle_upload(change):\n",
    "    w = change['owner']\n",
    "    with open(w.filename, 'wb') as f:\n",
    "        f.write(w.data)\n",
    "    print('Uploaded `{}` ({:.2f} kB)'.format(\n",
    "        w.filename, len(w.data) / 2**10))\n",
    "\n",
    "uploader.observe(_handle_upload, names='data')\n",
    "\n",
    "display(uploader)"
   ]
  },
  {
   "cell_type": "code",
   "execution_count": 18,
   "metadata": {
    "collapsed": false
   },
   "outputs": [
    {
     "name": "stdout",
     "output_type": "stream",
     "text": [
      "test-data.xlsx\n"
     ]
    }
   ],
   "source": [
    "print uploader.filename"
   ]
  },
  {
   "cell_type": "code",
   "execution_count": 19,
   "metadata": {
    "collapsed": true
   },
   "outputs": [],
   "source": [
    "data = pandas.read_excel(uploader.filename) #import excel file chosen by user\n",
    "data = data.fillna(value=0) #Replace any empty cells (which read in as NaN) with 0, otherwise Pandas will break"
   ]
  },
  {
   "cell_type": "code",
   "execution_count": 21,
   "metadata": {
    "collapsed": false
   },
   "outputs": [],
   "source": [
    "#Save original wt% values\n",
    "orig_WP_SiO2  \t= data[\"SiO2\"]\n",
    "orig_WP_TiO2  \t= data[\"TiO2\"]\n",
    "orig_WP_Al2O3 \t= data[\"Al2O3\"]\n",
    "orig_WP_Fe2O3 \t= data[\"Fe2O3\"]\n",
    "orig_WP_FeO \t= data[\"FeO\"]\n",
    "orig_WP_MgO \t= data[\"MgO\"]\n",
    "orig_WP_CaO \t= data[\"CaO\"]\n",
    "orig_WP_Na2O  \t= data[\"Na2O\"]\n",
    "orig_WP_K2O \t= data[\"K2O\"]\n",
    "orig_WP_H2O \t= data[\"H2O\"]"
   ]
  },
  {
   "cell_type": "code",
   "execution_count": 22,
   "metadata": {
    "collapsed": true
   },
   "outputs": [],
   "source": [
    "#Molecular Weights\n",
    "MW_SiO2 \t= 60.0855\n",
    "MW_TiO2 \t= 79.88\n",
    "MW_Al2O3 \t= 101.96\n",
    "MW_Fe2O3 \t= 159.69\n",
    "MW_FeO \t\t= 71.85\n",
    "MW_MgO \t\t= 40.3\n",
    "MW_CaO \t\t= 56.08\n",
    "MW_Na2O \t= 61.98\n",
    "MW_K2O \t\t= 94.2\n",
    "MW_H2O \t\t= 18.02\n",
    "\n",
    "#Molar Volumes\n",
    "#Volumes for SiO2, Al2O3, MgO, CaO, Na2O, K2O at Tref=1773 K (Lange, 1997; CMP)\n",
    "#Volumes for TiO2, Fe2O3, FeO at Tref=1773 K (Lange and Carmichael, 1987)\n",
    "#Volume for H2O at Tref=1273 K (Ochs and Lange, 1999)\n",
    "MV_SiO2 = 26.86\n",
    "MV_TiO2 = 28.32\n",
    "MV_Al2O3 = 37.42\n",
    "MV_Fe2O3 = 42.97\n",
    "MV_FeO = 13.97\n",
    "MV_MgO = 12.02\n",
    "MV_CaO = 16.90\n",
    "MV_Na2O = 29.65\n",
    "MV_K2O = 47.28\n",
    "MV_H2O = 22.9\n",
    "\n",
    "#dV/dT values\n",
    "#Reference values: 298K and 1 bar from Table 9 of Lange et al (1987)\n",
    "#H2O data from Ochs & Lange (1999)\n",
    "dVdT_SiO2 = 0\n",
    "dVdT_TiO2 = 0.00724\n",
    "dVdT_Al2O3 = 0.00262\n",
    "dVdT_Fe2O3 = 0.00909\n",
    "dVdT_FeO = 0.00292\n",
    "dVdT_MgO = 0.00262\n",
    "dVdT_CaO = 0.00292\n",
    "dVdT_Na2O = 0.00741\n",
    "dVdT_K2O = 0.01191\n",
    "dVdT_H2O = 0.0095\n",
    "\n",
    "#dV/dP values\n",
    "#H2O data from Ochs & Lange (1999)\n",
    "dVdP_SiO2 = -0.000189\n",
    "dVdP_TiO2 = -0.000231\n",
    "dVdP_Al2O3 = -0.000226\n",
    "dVdP_Fe2O3 = -0.000253\n",
    "dVdP_FeO = -0.000045\n",
    "dVdP_MgO = 0.000027\n",
    "dVdP_CaO = 0.000034\n",
    "dVdP_Na2O = -0.00024\n",
    "dVdP_K2O = -0.000675\n",
    "dVdP_H2O = -0.00032"
   ]
  },
  {
   "cell_type": "code",
   "execution_count": 23,
   "metadata": {
    "collapsed": true
   },
   "outputs": [],
   "source": [
    "#sum original wt% values\n",
    "data[\"OriginalSum\"] = data[\"SiO2\"] + data[\"TiO2\"] + data[\"Al2O3\"] + data[\"Fe2O3\"] + data[\"FeO\"] + data[\"MgO\"] + data[\"CaO\"] + data[\"Na2O\"] + data[\"K2O\"] + data[\"H2O\"]\n",
    "\n",
    "#Normalize original wt% values\n",
    "data.loc[:,'SiO2'] /= data['OriginalSum']\n",
    "data.loc[:,'TiO2'] /= data['OriginalSum']\n",
    "data.loc[:,'Al2O3'] /= data['OriginalSum']\n",
    "data.loc[:,'Fe2O3'] /= data['OriginalSum']\n",
    "data.loc[:,'FeO'] /= data['OriginalSum']\n",
    "data.loc[:,'MgO'] /= data['OriginalSum']\n",
    "data.loc[:,'CaO'] /= data['OriginalSum']\n",
    "data.loc[:,'Na2O'] /= data['OriginalSum']\n",
    "data.loc[:,'K2O'] /= data['OriginalSum']\n",
    "data.loc[:,'H2O'] /= data['OriginalSum']\n",
    "\n",
    "data.loc[:,'SiO2'] \t*= 100\n",
    "data.loc[:,'TiO2'] \t*= 100\n",
    "data.loc[:,'Al2O3'] *= 100\n",
    "data.loc[:,'Fe2O3'] *= 100\n",
    "data.loc[:,'FeO']\t*= 100\n",
    "data.loc[:,'MgO'] \t*= 100\n",
    "data.loc[:,'CaO'] \t*= 100\n",
    "data.loc[:,'Na2O'] \t*= 100\n",
    "data.loc[:,'K2O'] \t*= 100\n",
    "data.loc[:,'H2O'] \t*= 100\n",
    "\n",
    "data[\"NormedSum\"] = data[\"SiO2\"] + data[\"TiO2\"] + data[\"Al2O3\"] + data[\"Fe2O3\"] + data[\"FeO\"] + data[\"MgO\"] + data[\"CaO\"] + data[\"Na2O\"] + data[\"K2O\"] + data[\"H2O\"]\n",
    "#From this point, oxide column values are in normalized wt%\n",
    "\n",
    "\n",
    "#save normalized wt% values\n",
    "norm_WP_SiO2  \t= data[\"SiO2\"]\n",
    "norm_WP_TiO2  \t= data[\"TiO2\"]\n",
    "norm_WP_Al2O3 \t= data[\"Al2O3\"]\n",
    "norm_WP_Fe2O3 \t= data[\"Fe2O3\"]\n",
    "norm_WP_FeO \t= data[\"FeO\"]\n",
    "norm_WP_MgO \t= data[\"MgO\"]\n",
    "norm_WP_CaO \t= data[\"CaO\"]\n",
    "norm_WP_Na2O  \t= data[\"Na2O\"]\n",
    "norm_WP_K2O \t= data[\"K2O\"]\n",
    "norm_WP_H2O \t= data[\"H2O\"]\n",
    "\n",
    "\n",
    "#divide normalized wt% values by molecular weights\n",
    "data.loc[:,'SiO2'] \t/= MW_SiO2\n",
    "data.loc[:,'TiO2'] \t/= MW_TiO2\n",
    "data.loc[:,'Al2O3'] /= MW_Al2O3\n",
    "data.loc[:,'Fe2O3'] /= MW_Fe2O3\n",
    "data.loc[:,'FeO'] \t/= MW_FeO\n",
    "data.loc[:,'MgO'] \t/= MW_MgO\n",
    "data.loc[:,'CaO'] \t/= MW_CaO\n",
    "data.loc[:,'Na2O'] \t/= MW_Na2O\n",
    "data.loc[:,'K2O'] \t/= MW_K2O\n",
    "data.loc[:,'H2O'] \t/= MW_H2O\n",
    "\n",
    "data[\"MolPropOxSum\"] = data[\"SiO2\"] + data[\"TiO2\"] + data[\"Al2O3\"] + data[\"Fe2O3\"] + data[\"FeO\"] + data[\"MgO\"] + data[\"CaO\"] + data[\"Na2O\"] + data[\"K2O\"] + data[\"H2O\"]\n",
    "\n",
    "#convert to mol fraction\n",
    "data.loc[:,'SiO2'] /= data['MolPropOxSum']\n",
    "data.loc[:,'TiO2'] /= data['MolPropOxSum']\n",
    "data.loc[:,'Al2O3'] /= data['MolPropOxSum']\n",
    "data.loc[:,'Fe2O3'] /= data['MolPropOxSum']\n",
    "data.loc[:,'FeO'] /= data['MolPropOxSum']\n",
    "data.loc[:,'MgO'] /= data['MolPropOxSum']\n",
    "data.loc[:,'CaO'] /= data['MolPropOxSum']\n",
    "data.loc[:,'Na2O'] /= data['MolPropOxSum']\n",
    "data.loc[:,'K2O'] /= data['MolPropOxSum']\n",
    "data.loc[:,'H2O'] /= data['MolPropOxSum']\n",
    "#From this point, oxide column values are in mole fraction\n",
    "\n",
    "#calculating the component density in two equations: one for the denominator, one for the numerator. \n",
    "#A new numerator is calculated for each oxide.\n",
    "data[\"numerSiO2\"] \t= data[\"SiO2\"]  \t* MW_SiO2\n",
    "data[\"numerTiO2\"] \t= data[\"TiO2\"]  \t* MW_TiO2\n",
    "data[\"numerAl2O3\"] \t= data[\"Al2O3\"] \t* MW_Al2O3\n",
    "data[\"numerFe2O3\"]\t= data[\"Fe2O3\"] \t* MW_Fe2O3\n",
    "data[\"numerFeO\"] \t= data[\"FeO\"]\t \t* MW_FeO\n",
    "data[\"numerMgO\"] \t= data[\"MgO\"]  \t\t* MW_MgO\n",
    "data[\"numerCaO\"] \t= data[\"CaO\"]  \t\t* MW_CaO\n",
    "data[\"numerNa2O\"] \t= data[\"Na2O\"]  \t* MW_Na2O\n",
    "data[\"numerK2O\"] \t= data[\"K2O\"]  \t\t* MW_K2O\n",
    "data[\"numerH2O\"] \t= data[\"H2O\"]  \t\t* MW_H2O\n",
    "\n",
    "#Caclulate temperature in Kelvin\n",
    "data[\"T_K\"] \t\t= data[\"T\"]\t\t\t+ 273\n",
    "\n",
    "#A new denominator is calculated for each oxide\n",
    "data[\"denomSiO2\"] \t=  MV_SiO2 \t+ (dVdT_SiO2 \t* (data[\"T_K\"] - 1773)) + (dVdP_SiO2 \t* (data[\"P\"] - 1))\n",
    "data[\"denomTiO2\"] \t=  MV_TiO2 \t+ (dVdT_TiO2 \t* (data[\"T_K\"] - 1773)) + (dVdP_TiO2 \t* (data[\"P\"] - 1))\n",
    "data[\"denomAl2O3\"]\t=  MV_Al2O3 + (dVdT_Al2O3 \t* (data[\"T_K\"] - 1773)) + (dVdP_Al2O3 \t* (data[\"P\"] - 1))\n",
    "data[\"denomFe2O3\"]\t=  MV_Fe2O3 + (dVdT_Fe2O3 \t* (data[\"T_K\"] - 1773)) + (dVdP_Fe2O3 \t* (data[\"P\"] - 1))\n",
    "data[\"denomFeO\"] \t=  MV_FeO \t+ (dVdT_FeO \t* (data[\"T_K\"] - 1773)) + (dVdP_FeO \t* (data[\"P\"] - 1))\n",
    "data[\"denomMgO\"] \t=  MV_MgO \t+ (dVdT_MgO \t* (data[\"T_K\"] - 1773)) + (dVdP_MgO \t* (data[\"P\"] - 1))\n",
    "data[\"denomCaO\"] \t=  MV_CaO \t+ (dVdT_CaO \t* (data[\"T_K\"] - 1773)) + (dVdP_CaO \t* (data[\"P\"] - 1))\n",
    "data[\"denomNa2O\"] \t=  MV_Na2O \t+ (dVdT_Na2O \t* (data[\"T_K\"] - 1773)) + (dVdP_Na2O \t* (data[\"P\"] - 1))\n",
    "data[\"denomK2O\"] \t=  MV_K2O \t+ (dVdT_K2O \t* (data[\"T_K\"] - 1773)) + (dVdP_K2O \t* (data[\"P\"] - 1))\n",
    "data[\"denomH2O\"] \t=  MV_H2O \t+ (dVdT_H2O \t* (data[\"T_K\"] - 1273)) + (dVdP_H2O \t* (data[\"P\"] - 1))\n",
    "\n",
    "#Calculate component density by dividing numerator by denominator\n",
    "data[\"ComponentDensity_SiO2\"] = data[\"numerSiO2\"] / data[\"denomSiO2\"]\n",
    "data[\"ComponentDensity_TiO2\"] = data[\"numerTiO2\"] / data[\"denomTiO2\"]\n",
    "data[\"ComponentDensity_Al2O3\"] = data[\"numerAl2O3\"] / data[\"denomAl2O3\"]\n",
    "data[\"ComponentDensity_Fe2O3\"] = data[\"numerFe2O3\"] / data[\"denomFe2O3\"]\n",
    "data[\"ComponentDensity_FeO\"] = data[\"numerFeO\"] / data[\"denomFeO\"]\n",
    "data[\"ComponentDensity_MgO\"] = data[\"numerMgO\"] / data[\"denomMgO\"]\n",
    "data[\"ComponentDensity_CaO\"] = data[\"numerCaO\"] / data[\"denomCaO\"]\n",
    "data[\"ComponentDensity_Na2O\"] = data[\"numerNa2O\"] / data[\"denomNa2O\"]\n",
    "data[\"ComponentDensity_K2O\"] = data[\"numerK2O\"] / data[\"denomK2O\"]\n",
    "data[\"ComponentDensity_H2O\"] = data[\"numerH2O\"] / data[\"denomH2O\"]\n",
    "\n",
    "\n",
    "#Calculate the individual Vliq for each oxide\n",
    "data[\"IndivVliq_SiO2\"] \t= (MV_SiO2 \t+ (dVdT_SiO2 \t* (data[\"T_K\"] - 1773)) + (dVdP_SiO2 \t* (data[\"P\"]-1))) * data[\"SiO2\"]\n",
    "data[\"IndivVliq_TiO2\"] \t= (MV_TiO2 \t+ (dVdT_TiO2 \t* (data[\"T_K\"] - 1773)) + (dVdP_TiO2 \t* (data[\"P\"]-1))) * data[\"TiO2\"]\n",
    "data[\"IndivVliq_Al2O3\"] = (MV_Al2O3 + (dVdT_Al2O3 \t* (data[\"T_K\"] - 1773)) + (dVdP_Al2O3 \t* (data[\"P\"]-1))) * data[\"Al2O3\"]\n",
    "data[\"IndivVliq_Fe2O3\"] = (MV_Fe2O3 + (dVdT_Fe2O3 \t* (data[\"T_K\"] - 1773)) + (dVdP_Fe2O3 \t* (data[\"P\"]-1))) * data[\"Fe2O3\"]\n",
    "data[\"IndivVliq_FeO\"] \t= (MV_FeO \t+ (dVdT_FeO \t* (data[\"T_K\"] - 1773)) + (dVdP_FeO \t* (data[\"P\"]-1))) * data[\"FeO\"]\n",
    "data[\"IndivVliq_MgO\"] \t= (MV_MgO \t+ (dVdT_MgO \t* (data[\"T_K\"] - 1773)) + (dVdP_MgO \t* (data[\"P\"]-1))) * data[\"MgO\"]\n",
    "data[\"IndivVliq_CaO\"] \t= (MV_CaO \t+ (dVdT_CaO \t* (data[\"T_K\"] - 1773)) + (dVdP_CaO \t* (data[\"P\"]-1))) * data[\"CaO\"]\n",
    "data[\"IndivVliq_Na2O\"] \t= (MV_Na2O \t+ (dVdT_Na2O \t* (data[\"T_K\"] - 1773)) + (dVdP_Na2O \t* (data[\"P\"]-1))) * data[\"Na2O\"]\n",
    "data[\"IndivVliq_K2O\"] \t= (MV_K2O \t+ (dVdT_K2O \t* (data[\"T_K\"] - 1773)) + (dVdP_K2O \t* (data[\"P\"]-1))) * data[\"K2O\"]\n",
    "data[\"IndivVliq_H2O\"] \t= (MV_H2O \t+ (dVdT_H2O \t* (data[\"T_K\"] - 1273)) + (dVdP_H2O \t* (data[\"P\"]-1))) * data[\"H2O\"]\n",
    "\n",
    "#Calculate the sum of all Vliq oxides for each sample\n",
    "data[\"VliqSum\"] = data[\"IndivVliq_SiO2\"] + data[\"IndivVliq_TiO2\"] + data[\"IndivVliq_Al2O3\"] + data[\"IndivVliq_Fe2O3\"] + data[\"IndivVliq_FeO\"] + data[\"IndivVliq_MgO\"] + data[\"IndivVliq_CaO\"] + data[\"IndivVliq_Na2O\"] + data[\"IndivVliq_K2O\"] + data[\"IndivVliq_H2O\"]\n",
    "\n",
    "\n",
    "#Calculate Indiv X*MW\n",
    "data.loc[:,'SiO2'] \t*= MW_SiO2\n",
    "data.loc[:,'TiO2'] \t*= MW_TiO2\n",
    "data.loc[:,'Al2O3'] *= MW_Al2O3\n",
    "data.loc[:,'Fe2O3'] *= MW_Fe2O3\n",
    "data.loc[:,'FeO'] \t*= MW_FeO\n",
    "data.loc[:,'MgO'] \t*= MW_MgO\n",
    "data.loc[:,'CaO'] \t*= MW_CaO\n",
    "data.loc[:,'Na2O'] \t*= MW_Na2O\n",
    "data.loc[:,'K2O'] \t*= MW_K2O\n",
    "data.loc[:,'H2O'] \t*= MW_H2O\n",
    "#From this point, oxide column values are in X*MW\n",
    "\n",
    "#Calculate the sume of X*MW oxides\n",
    "data[\"XMW_Sum\"]\t\t= data[\"SiO2\"] + data[\"TiO2\"] + data[\"Al2O3\"] + data[\"Fe2O3\"] + data[\"FeO\"] + data[\"MgO\"] + data[\"CaO\"] + data[\"Na2O\"] + data[\"K2O\"] + data[\"H2O\"]\n",
    "\n",
    "\n",
    "#Calculate the density of the melt in g/cm3 and in g/L\n",
    "data[\"Density_g-per-cm3\"] \t= data[\"XMW_Sum\"] / data[\"VliqSum\"]\n",
    "data[\"Density_g-per-L\"]\t\t= data[\"Density_g-per-cm3\"] * 1000"
   ]
  },
  {
   "cell_type": "code",
   "execution_count": 24,
   "metadata": {
    "collapsed": true
   },
   "outputs": [],
   "source": [
    "#Translate oxide column values back into wt% for the output spreadsheet\n",
    "data.loc[:,'SiO2'] \t= norm_WP_SiO2\n",
    "data.loc[:,'TiO2'] \t= norm_WP_TiO2\n",
    "data.loc[:,'Al2O3'] = norm_WP_Al2O3\n",
    "data.loc[:,'Fe2O3'] = norm_WP_Fe2O3\n",
    "data.loc[:,'FeO'] \t= norm_WP_FeO\n",
    "data.loc[:,'MgO'] \t= norm_WP_MgO\n",
    "data.loc[:,'CaO'] \t= norm_WP_CaO\n",
    "data.loc[:,'Na2O'] \t= norm_WP_Na2O\n",
    "data.loc[:,'K2O'] \t= norm_WP_K2O\n",
    "data.loc[:,'H2O'] \t= norm_WP_H2O\n",
    "\n",
    "#Make a sheet with only the important output data\n",
    "index = data[\"Sample_ID\"]\n",
    "columns = [data[\"Sample_ID\"], norm_WP_SiO2, data[\"Density_g-per-cm3\"], data[\"Density_g-per-L\"], norm_WP_H2O, data[\"T\"], data[\"P\"]]\n",
    "output = pandas.DataFrame(index, columns)\n",
    "\n",
    "\n",
    "#Save this new data to an Excel spreadsheet\n",
    "writer = pandas.ExcelWriter('Density_output.xlsx', engine='xlsxwriter') #Create a Pandas Excel writer using XlsxWriter as the engine.\n",
    "output.to_excel(writer, sheet_name='Density Data')\n",
    "data.to_excel(writer, sheet_name='All Data') #Convert the dataframe to an XlsxWriter Excel object\n",
    "writer.save() #Close the Pandas Excel writer and output the Excel file"
   ]
  },
  {
   "cell_type": "code",
   "execution_count": null,
   "metadata": {
    "collapsed": true
   },
   "outputs": [],
   "source": []
  }
 ],
 "metadata": {
  "kernelspec": {
   "display_name": "Python 2",
   "language": "python",
   "name": "python2"
  },
  "language_info": {
   "codemirror_mode": {
    "name": "ipython",
    "version": 2
   },
   "file_extension": ".py",
   "mimetype": "text/x-python",
   "name": "python",
   "nbconvert_exporter": "python",
   "pygments_lexer": "ipython2",
   "version": "2.7.13"
  },
  "widgets": {
   "state": {
    "8192dfa2e2fc4b1196282f5fb7a28d35": {
     "views": [
      {
       "cell_index": 1
      }
     ]
    },
    "8951e3acb3b748a081d5a54703110e0f": {
     "views": [
      {
       "cell_index": 1
      }
     ]
    }
   },
   "version": "1.2.0"
  }
 },
 "nbformat": 4,
 "nbformat_minor": 2
}
